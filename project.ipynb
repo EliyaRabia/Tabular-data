{
 "cells": [
  {
   "cell_type": "markdown",
   "metadata": {},
   "source": [
    "# Engineering graduate salary prediction"
   ]
  },
  {
   "cell_type": "code",
   "execution_count": null,
   "metadata": {},
   "outputs": [
    {
     "ename": "ModuleNotFoundError",
     "evalue": "No module named 'seaborn'",
     "output_type": "error",
     "traceback": [
      "\u001b[1;31m---------------------------------------------------------------------------\u001b[0m",
      "\u001b[1;31mModuleNotFoundError\u001b[0m                       Traceback (most recent call last)",
      "Cell \u001b[1;32mIn[1], line 4\u001b[0m\n\u001b[0;32m      2\u001b[0m \u001b[38;5;28;01mimport\u001b[39;00m \u001b[38;5;21;01mpandas\u001b[39;00m \u001b[38;5;28;01mas\u001b[39;00m \u001b[38;5;21;01mpd\u001b[39;00m\n\u001b[0;32m      3\u001b[0m \u001b[38;5;28;01mimport\u001b[39;00m \u001b[38;5;21;01mmatplotlib\u001b[39;00m\u001b[38;5;21;01m.\u001b[39;00m\u001b[38;5;21;01mpyplot\u001b[39;00m \u001b[38;5;28;01mas\u001b[39;00m \u001b[38;5;21;01mplt\u001b[39;00m\n\u001b[1;32m----> 4\u001b[0m \u001b[38;5;28;01mimport\u001b[39;00m \u001b[38;5;21;01mseaborn\u001b[39;00m \u001b[38;5;28;01mas\u001b[39;00m \u001b[38;5;21;01msns\u001b[39;00m\n\u001b[0;32m      6\u001b[0m \u001b[38;5;66;03m# Load the dataset\u001b[39;00m\n\u001b[0;32m      7\u001b[0m data_path \u001b[38;5;241m=\u001b[39m \u001b[38;5;124m\"\u001b[39m\u001b[38;5;124m./data/Engineering_graduate_salary_prediction.csv\u001b[39m\u001b[38;5;124m\"\u001b[39m  \u001b[38;5;66;03m# Adjust path if necessary\u001b[39;00m\n",
      "\u001b[1;31mModuleNotFoundError\u001b[0m: No module named 'seaborn'"
     ]
    }
   ],
   "source": [
    "# Import necessary libraries\n",
    "import pandas as pd\n",
    "import matplotlib.pyplot as plt\n",
    "import seaborn as sns\n",
    "\n",
    "# Load the dataset\n",
    "data_path = \"./data/Engineering_graduate_salary_prediction.csv\"  # Adjust path if necessary\n",
    "data = pd.read_csv(data_path)\n",
    "\n",
    "# Display basic info\n",
    "# data.info()\n",
    "\n",
    "\n",
    "\n",
    "\n",
    "\n",
    "# Visualization 4: Salary vs CGPA\n",
    "plt.figure(figsize=(10, 6))\n",
    "sns.scatterplot(x='CollegeGPA', y='Salary', data=data, color='green', alpha=0.6)\n",
    "sns.regplot(x='CollegeGPA', y='Salary', data=data, scatter=False, color='red')\n",
    "plt.title(\"Salary vs CGPA\", fontsize=14)\n",
    "plt.xlabel(\"CGPA\", fontsize=12)\n",
    "plt.ylabel(\"Salary (INR)\", fontsize=12)\n",
    "plt.grid(True)\n",
    "plt.show()\n",
    "# Add analysis about the relationship between academic performance and salary.\n",
    "\n",
    "# Visualization 5: Salary vs Skill (e.g., Quantitative Ability)\n",
    "plt.figure(figsize=(10, 6))\n",
    "sns.scatterplot(x='Quant', y='Salary', data=data, color='orange', alpha=0.6)\n",
    "sns.regplot(x='Quant', y='Salary', data=data, scatter=False, color='red')\n",
    "plt.title(\"Salary vs Quantitative Ability\", fontsize=14)\n",
    "plt.xlabel(\"Quantitative Score\", fontsize=12)\n",
    "plt.ylabel(\"Salary (INR)\", fontsize=12)\n",
    "plt.grid(True)\n",
    "plt.show()\n",
    "# Add explanation about the impact of quantitative skills on salary.\n",
    "\n"
   ]
  },
  {
   "cell_type": "markdown",
   "metadata": {},
   "source": [
    "# Visualization 1:\n",
    "Distribution of Salaries\n",
    "להסביר למה זה חשוב?"
   ]
  },
  {
   "cell_type": "code",
   "execution_count": null,
   "metadata": {},
   "outputs": [],
   "source": [
    "plt.figure(figsize=(10, 6))\n",
    "sns.histplot(data['Salary'], kde=True, bins=30, color='blue')\n",
    "plt.title(\"Distribution of Salaries\", fontsize=14)\n",
    "plt.xlabel(\"Salary (INR)\", fontsize=12)\n",
    "plt.ylabel(\"Frequency\", fontsize=12)\n",
    "plt.grid(True)\n",
    "plt.show()\n",
    "# Add explanation about why this plot is relevant."
   ]
  },
  {
   "cell_type": "markdown",
   "metadata": {},
   "source": [
    "# Visualization 2:\n",
    "Salary vs College Tier"
   ]
  },
  {
   "cell_type": "code",
   "execution_count": null,
   "metadata": {},
   "outputs": [],
   "source": [
    "plt.figure(figsize=(10, 6))\n",
    "sns.boxplot(x='CollegeTier', y='Salary', data=data, palette='Set2')\n",
    "plt.title(\"Salary Distribution by College Tier\", fontsize=14)\n",
    "plt.xlabel(\"College Tier\", fontsize=12)\n",
    "plt.ylabel(\"Salary (INR)\", fontsize=12)\n",
    "plt.grid(True)\n",
    "plt.show()\n",
    "# Add explanation about how college tier affects salary."
   ]
  },
  {
   "cell_type": "markdown",
   "metadata": {},
   "source": [
    "# Visualization 3:\n",
    "Salary vs Specialization"
   ]
  },
  {
   "cell_type": "code",
   "execution_count": null,
   "metadata": {},
   "outputs": [],
   "source": [
    "plt.figure(figsize=(12, 6))\n",
    "avg_salary_by_spec = data.groupby('Specialization')['Salary'].mean().sort_values(ascending=False)\n",
    "avg_salary_by_spec.plot(kind='bar', color='purple')\n",
    "plt.title(\"Average Salary by Specialization\", fontsize=14)\n",
    "plt.xlabel(\"Specialization\", fontsize=12)\n",
    "plt.ylabel(\"Average Salary (INR)\", fontsize=12)\n",
    "plt.grid(axis='y')\n",
    "plt.show()\n",
    "# Add insights about which specializations lead to higher salaries."
   ]
  },
  {
   "cell_type": "code",
   "execution_count": null,
   "metadata": {},
   "outputs": [],
   "source": [
    "# Visualization 4: Salary vs CGPA\n"
   ]
  }
 ],
 "metadata": {
  "kernelspec": {
   "display_name": "Python 3",
   "language": "python",
   "name": "python3"
  },
  "language_info": {
   "codemirror_mode": {
    "name": "ipython",
    "version": 3
   },
   "file_extension": ".py",
   "mimetype": "text/x-python",
   "name": "python",
   "nbconvert_exporter": "python",
   "pygments_lexer": "ipython3",
   "version": "3.12.0"
  }
 },
 "nbformat": 4,
 "nbformat_minor": 2
}
